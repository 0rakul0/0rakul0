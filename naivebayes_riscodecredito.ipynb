{
  "nbformat": 4,
  "nbformat_minor": 0,
  "metadata": {
    "colab": {
      "name": "Untitled0.ipynb",
      "provenance": [],
      "collapsed_sections": [],
      "authorship_tag": "ABX9TyPQDcFgPS/SzOXci5KkMDFc",
      "include_colab_link": true
    },
    "kernelspec": {
      "name": "python3",
      "display_name": "Python 3"
    },
    "language_info": {
      "name": "python"
    }
  },
  "cells": [
    {
      "cell_type": "markdown",
      "metadata": {
        "id": "view-in-github",
        "colab_type": "text"
      },
      "source": [
        "<a href=\"https://colab.research.google.com/github/0rakul0/0rakul0/blob/master/naivebayes_riscodecredito.ipynb\" target=\"_parent\"><img src=\"https://colab.research.google.com/assets/colab-badge.svg\" alt=\"Open In Colab\"/></a>"
      ]
    },
    {
      "cell_type": "code",
      "metadata": {
        "id": "eon_7SCxFvkE"
      },
      "source": [
        "import pandas as pd\n",
        "\n",
        "base_risco_credito = pd.read_csv('/content/risco_credito.csv')"
      ],
      "execution_count": 1,
      "outputs": []
    },
    {
      "cell_type": "code",
      "metadata": {
        "id": "o9tJounKJhzx"
      },
      "source": [
        "from sklearn.naive_bayes import GaussianNB"
      ],
      "execution_count": 11,
      "outputs": []
    },
    {
      "cell_type": "markdown",
      "metadata": {
        "id": "hXB9JwDMHuQ2"
      },
      "source": [
        "a tabela com as 5 colunas"
      ]
    },
    {
      "cell_type": "code",
      "metadata": {
        "id": "SQwGR7AMG6Hy"
      },
      "source": [
        "base_risco_credito"
      ],
      "execution_count": null,
      "outputs": []
    },
    {
      "cell_type": "markdown",
      "metadata": {
        "id": "Dt3Q9lRjHkoP"
      },
      "source": [
        "puxar a tabela menos a ultima coluna"
      ]
    },
    {
      "cell_type": "code",
      "metadata": {
        "id": "oFK9uWi2HAsW"
      },
      "source": [
        "x_risco_credito = base_risco_credito.iloc[:, 0:4].values\n",
        "x_risco_credito"
      ],
      "execution_count": null,
      "outputs": []
    },
    {
      "cell_type": "markdown",
      "metadata": {
        "id": "l8guN3D-HopG"
      },
      "source": [
        "puxar a tabela só com a ultima coluna"
      ]
    },
    {
      "cell_type": "code",
      "metadata": {
        "id": "gn4oUykFHYZv"
      },
      "source": [
        "y_risco_credito = base_risco_credito.iloc[:, 4].values\n",
        "y_risco_credito"
      ],
      "execution_count": null,
      "outputs": []
    },
    {
      "cell_type": "markdown",
      "metadata": {
        "id": "yoIDh0vCHxOW"
      },
      "source": [
        "fazer o import do sklearn para transformar texto em numero"
      ]
    },
    {
      "cell_type": "code",
      "metadata": {
        "id": "kTGzy0XeIBq5"
      },
      "source": [
        "from sklearn.preprocessing import LabelEncoder\n",
        "\n",
        "label_encoder_historia = LabelEncoder()\n",
        "label_encoder_divida = LabelEncoder()\n",
        "label_encoder_garantia = LabelEncoder()\n",
        "label_encoder_renda = LabelEncoder()"
      ],
      "execution_count": 7,
      "outputs": []
    },
    {
      "cell_type": "code",
      "metadata": {
        "id": "ECePLVuVIW52"
      },
      "source": [
        "x_risco_credito[:,0] = label_encoder_historia.fit_transform(x_risco_credito[:,0])\n",
        "x_risco_credito[:,1] = label_encoder_divida.fit_transform(x_risco_credito[:,1])\n",
        "x_risco_credito[:,2] = label_encoder_garantia.fit_transform(x_risco_credito[:,2])\n",
        "x_risco_credito[:,3] = label_encoder_renda.fit_transform(x_risco_credito[:,3])"
      ],
      "execution_count": 8,
      "outputs": []
    },
    {
      "cell_type": "markdown",
      "metadata": {
        "id": "7XGwkk3iJU_a"
      },
      "source": [
        "salva o pkl para ser usado mais tarde"
      ]
    },
    {
      "cell_type": "code",
      "metadata": {
        "id": "VlE5In47I3PX"
      },
      "source": [
        "import pickle\n",
        "\n",
        "with open('risco_credito.pkl','wb') as f:\n",
        "  pickle.dump([x_risco_credito, y_risco_credito], f)"
      ],
      "execution_count": 10,
      "outputs": []
    },
    {
      "cell_type": "markdown",
      "metadata": {
        "id": "LotqCmqeJ2MJ"
      },
      "source": [
        "treinar o algoritimo"
      ]
    },
    {
      "cell_type": "code",
      "metadata": {
        "colab": {
          "base_uri": "https://localhost:8080/"
        },
        "id": "bzmTwvUkJYP3",
        "outputId": "fe8eddbe-56a1-463c-c5df-f44532670659"
      },
      "source": [
        "naive_risco_credito = GaussianNB()\n",
        "naive_risco_credito.fit(x_risco_credito, y_risco_credito)"
      ],
      "execution_count": 13,
      "outputs": [
        {
          "output_type": "execute_result",
          "data": {
            "text/plain": [
              "GaussianNB(priors=None, var_smoothing=1e-09)"
            ]
          },
          "metadata": {
            "tags": []
          },
          "execution_count": 13
        }
      ]
    },
    {
      "cell_type": "markdown",
      "metadata": {
        "id": "d_o6y9X0KNSq"
      },
      "source": [
        "com o algoritmo criado podemos criar uma previsão"
      ]
    },
    {
      "cell_type": "code",
      "metadata": {
        "id": "WUz9rjQgKS22"
      },
      "source": [
        "previsao = naive_risco_credito.predict([[0,0,1,2],[2,0,0,0]])"
      ],
      "execution_count": 18,
      "outputs": []
    },
    {
      "cell_type": "markdown",
      "metadata": {
        "id": "bUk84OAbQdFR"
      },
      "source": [
        "essa função só retorna a classe com definições y"
      ]
    },
    {
      "cell_type": "code",
      "metadata": {
        "colab": {
          "base_uri": "https://localhost:8080/"
        },
        "id": "y-pMI-U8QChO",
        "outputId": "63dd00e6-717b-41ab-aea1-41d5188e293c"
      },
      "source": [
        "previsao"
      ],
      "execution_count": 19,
      "outputs": [
        {
          "output_type": "execute_result",
          "data": {
            "text/plain": [
              "array(['baixo', 'moderado'], dtype='<U8')"
            ]
          },
          "metadata": {
            "tags": []
          },
          "execution_count": 19
        }
      ]
    }
  ]
}